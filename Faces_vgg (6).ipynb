{
 "cells": [
  {
   "cell_type": "code",
   "execution_count": 1,
   "metadata": {
    "collapsed": false,
    "scrolled": true
   },
   "outputs": [
    {
     "name": "stderr",
     "output_type": "stream",
     "text": [
      "/home/oleksandr/anaconda2/lib/python2.7/site-packages/sklearn/cross_validation.py:44: DeprecationWarning: This module was deprecated in version 0.18 in favor of the model_selection module into which all the refactored classes and functions are moved. Also note that the interface of the new CV iterators are different from that of this module. This module will be removed in 0.20.\n",
      "  \"This module will be removed in 0.20.\", DeprecationWarning)\n"
     ]
    }
   ],
   "source": [
    "from sklearn import cross_validation,metrics\n",
    "from sklearn.cross_validation import train_test_split\n",
    "import numpy as np\n",
    "import pandas as pd\n",
    "from matplotlib import pyplot as plt\n",
    "from numba import jit\n",
    "import sys\n",
    "import cPickle as pickle\n",
    "sys.path.append('/home/oleksandr/FaceRocognition')\n",
    "from Util import smart_dummy, ensemble_classifier, gini, ROC, plot_feature_importance, print_res_table\n",
    "sys.path.append('/home/oleksandr/xgboost/xgboost/python-package/')\n",
    "from copy import deepcopy\n",
    "from Util import smart_dummy, ensemble_classifier, gini, ROC, plot_feature_importance, print_res_table\n",
    "import xgboost as xgb\n",
    "from copy import deepcopy\n",
    "from Util import smart_dummy, ensemble_classifier, gini, ROC, plot_feature_importance, print_res_table\n",
    "import xgboost as xgb\n",
    "from scipy.special import logit,expit\n",
    "%matplotlib inline"
   ]
  },
  {
   "cell_type": "code",
   "execution_count": 3,
   "metadata": {
    "collapsed": false
   },
   "outputs": [
    {
     "name": "stdout",
     "output_type": "stream",
     "text": [
      "12123 клиентов, 40000 фото\n"
     ]
    }
   ],
   "source": [
    "#%%time\n",
    "chunksize = 40000\n",
    "#df_gen  = pd.read_csv('/home/oleksandr/FaceDetection/faces_features_300k_26_10_16_vggnet.csv', chunksize=chunksize,sep = \";\",dtype=np.uint8,header=None)\n",
    "#lbl_gen = pd.read_csv('/home/oleksandr/FaceDetection/faces_300k_labels_26_10_2016.csv',chunksize=chunksize,sep = \";\", header=None)\n",
    "\n",
    "df_gen  = pd.read_csv('/home/oleksandr/FaceDetection/faces_features_cuted_04_11_16_vggnet.csv', chunksize=chunksize,sep = \";\",dtype=np.float16,header=None)\n",
    "lbl_gen = pd.read_csv('/home/oleksandr/FaceDetection/faces_300k_cuted_labels_04_11_2016.csv',chunksize=chunksize,sep = \";\", header=None)\n",
    "df=df_gen.next()\n",
    "lbl=lbl_gen.next()\n",
    "print len(lbl[0].value_counts()),'клиентов,', len(lbl[1].value_counts()), 'фото'"
   ]
  },
  {
   "cell_type": "markdown",
   "metadata": {
    "collapsed": false
   },
   "source": [
    "#%%time\n",
    "chunksize = 10000\n",
    "df_gen  = pd.read_csv('/home/oleksandr/FaceDetection/faces_features_300k_26_10_16_vggnet.csv', chunksize=chunksize,sep = \";\",dtype=np.float16,header=None)\n",
    "lbl_gen = pd.read_csv('/home/oleksandr/FaceDetection/faces_300k_labels_26_10_2016.csv',chunksize=chunksize,sep = \";\", header=None)\n",
    "\n",
    "#df=df_gen.next().astype(np.uint8)\n",
    "lbl=lbl_gen.next()\n",
    "#print len(lbl[0].value_counts()),'клиентов,', len(lbl[1].value_counts()), 'фото'"
   ]
  },
  {
   "cell_type": "markdown",
   "metadata": {},
   "source": [
    "#### делим по-клиентно на train и test"
   ]
  },
  {
   "cell_type": "code",
   "execution_count": 4,
   "metadata": {
    "collapsed": false
   },
   "outputs": [
    {
     "data": {
      "text/plain": [
       "((36013, 402), (3987, 2))"
      ]
     },
     "execution_count": 4,
     "metadata": {},
     "output_type": "execute_result"
    }
   ],
   "source": [
    "cust_id_train,cust_id_test = train_test_split(lbl.groupby(0).first().index.values,test_size=0.1)\n",
    "lbl_train = lbl[lbl[0].isin(cust_id_train)]\n",
    "df_train  = df [lbl[0].isin(cust_id_train)]\n",
    "lbl_test = lbl[lbl[0].isin(cust_id_test)]\n",
    "df_test  = df[lbl[0].isin(cust_id_test)]\n",
    "df_train.shape,lbl_test.shape"
   ]
  },
  {
   "cell_type": "code",
   "execution_count": 5,
   "metadata": {
    "collapsed": false
   },
   "outputs": [
    {
     "data": {
      "text/plain": [
       "402"
      ]
     },
     "execution_count": 5,
     "metadata": {},
     "output_type": "execute_result"
    }
   ],
   "source": [
    "mask=np.array([True]*df_train.shape[1])\n",
    "len(mask)"
   ]
  },
  {
   "cell_type": "markdown",
   "metadata": {},
   "source": [
    "#### Формируем пары"
   ]
  },
  {
   "cell_type": "code",
   "execution_count": 6,
   "metadata": {
    "collapsed": false
   },
   "outputs": [],
   "source": [
    "def make_set(df,lbl,dup=True):\n",
    "    size=len(df)/2*2 # четное количество\n",
    "    x1,x2,cust1,cust2 = train_test_split(df.as_matrix()[:size][:,mask],\n",
    "                        lbl.values[:size,0], test_size=0.5)\n",
    "    \n",
    "    # вначале соединяем элементы 1 к 1\n",
    "    X = np.hstack((x1,x2))\n",
    "    Y = (cust1 == cust2)\n",
    "     \n",
    "    # добавляем в обратном порядке со сдвигом на 1 \n",
    "    if dup:\n",
    "        X = np.vstack((X,np.hstack((x2[1:],x1[:-1]))))\n",
    "        Y = np.append(Y, cust2[1:] == cust1[:-1])\n",
    "         \n",
    "    # формируем совпадающие пары\n",
    "    X = list(X)\n",
    "    for row1,cust1_id in enumerate(cust1):\n",
    "        ind=np.where(cust2 == cust1_id)[0]\n",
    "        for row2 in ind:\n",
    "            X.append(np.hstack((x1[row1],x2[row2])))\n",
    "            Y = np.append(Y,True)\n",
    "            \n",
    "            if not dup: break\n",
    "    return np.array(X),Y"
   ]
  },
  {
   "cell_type": "code",
   "execution_count": 7,
   "metadata": {
    "collapsed": false
   },
   "outputs": [
    {
     "ename": "NameError",
     "evalue": "name 'x_train' is not defined",
     "output_type": "error",
     "traceback": [
      "\u001b[1;31m---------------------------------------------------------------------------\u001b[0m",
      "\u001b[1;31mNameError\u001b[0m                                 Traceback (most recent call last)",
      "\u001b[1;32m<ipython-input-7-9a7129e9b9dd>\u001b[0m in \u001b[0;36m<module>\u001b[1;34m()\u001b[0m\n\u001b[0;32m      1\u001b[0m \u001b[0mx_test\u001b[0m\u001b[1;33m,\u001b[0m\u001b[0my_test\u001b[0m    \u001b[1;33m=\u001b[0m \u001b[0mmake_set\u001b[0m\u001b[1;33m(\u001b[0m\u001b[0mdf_test\u001b[0m\u001b[1;33m,\u001b[0m\u001b[0mlbl_test\u001b[0m\u001b[1;33m,\u001b[0m\u001b[0mFalse\u001b[0m\u001b[1;33m)\u001b[0m\u001b[1;33m\u001b[0m\u001b[0m\n\u001b[1;32m----> 2\u001b[1;33m \u001b[1;32mprint\u001b[0m \u001b[0mx_train\u001b[0m\u001b[1;33m.\u001b[0m\u001b[0mshape\u001b[0m\u001b[1;33m,\u001b[0m\u001b[0mx_test\u001b[0m\u001b[1;33m.\u001b[0m\u001b[0mshape\u001b[0m\u001b[1;33m,\u001b[0m\u001b[0my_test\u001b[0m\u001b[1;33m.\u001b[0m\u001b[0mshape\u001b[0m\u001b[1;33m\u001b[0m\u001b[0m\n\u001b[0m",
      "\u001b[1;31mNameError\u001b[0m: name 'x_train' is not defined"
     ]
    }
   ],
   "source": [
    "x_test,y_test    = make_set(df_test,lbl_test,False)\n",
    "print x_train.shape,x_test.shape,y_test.shape"
   ]
  },
  {
   "cell_type": "code",
   "execution_count": 9,
   "metadata": {
    "collapsed": false
   },
   "outputs": [],
   "source": [
    "def train_step(clf,param,n_estimator,x_train,y_train,x_test,y_test,learning_rates=None,early_stopping_rounds=10):    \n",
    "    gini0 = gini(x_test, y_test,clf)\n",
    "    print param,gini(x_train, y_train,clf),'/',gini0\n",
    "    bst0 = clf._Booster.copy()\n",
    "    train = xgb.DMatrix(x_train, y_train)\n",
    "    test  = xgb.DMatrix(x_test,  y_test)\n",
    "    param['eval_metric']='auc'\n",
    "    param['objective'] ='binary:logistic'\n",
    "    clf._Booster = xgb.train(param, train, xgb_model=clf._Booster,\n",
    "                             evals=[(train,'train'),(test,'test')],\n",
    "                             early_stopping_rounds=early_stopping_rounds,verbose_eval=10,\n",
    "                             num_boost_round=n_estimator,learning_rates=learning_rates)\n",
    "    gini1 = gini(x_test, y_test,clf)\n",
    "    print 'after:', gini(x_train, y_train,clf),'/', gini1,\n",
    "    print 'acc train:',metrics.accuracy_score(y_test, clf.predict(x_test))\n",
    "    \n",
    "    if gini1 <= gini0:\n",
    "        print \"Rollback !\"\n",
    "        clf._Booster = bst0"
   ]
  },
  {
   "cell_type": "code",
   "execution_count": 5,
   "metadata": {
    "collapsed": true
   },
   "outputs": [],
   "source": [
    "ens = ensemble_classifier()"
   ]
  },
  {
   "cell_type": "raw",
   "metadata": {
    "collapsed": false
   },
   "source": [
    "# x_train,y_train  = make_set(df_train,lbl_train,True)\n",
    "clf=xgb.XGBClassifier(n_estimators=1)\n",
    "clf.fit(x_test,y_test)\n",
    "\n",
    "train_step(clf,{'max_depth':6}, 200, x_train,y_train,x_test,y_test,\n",
    "           learning_rates=[0.9]*50 + [0.5]*150)\n",
    "train_step(clf,{'max_depth':7,},100, x_train,y_train,x_test,y_test,\n",
    "           learning_rates=[0.3]*50 + [0.2]*50)\n",
    "\n",
    "for it in range(5):\n",
    "    print it,'new set'\n",
    "    x_train,y_train  = make_set(df_train,lbl_train,True)\n",
    "    train_step(clf, {'eta':0.2,'max_depth':6},100 ,x_train,y_train,x_test,y_test) \n",
    "    train_step(clf, {'eta':0.1,'max_depth':7},50 ,x_train,y_train,x_test,y_test)\n",
    "    \n",
    "\n",
    "\n",
    "#ens.add(clf)"
   ]
  },
  {
   "cell_type": "code",
   "execution_count": 5,
   "metadata": {
    "collapsed": false
   },
   "outputs": [],
   "source": [
    "class magrin_clf():\n",
    "    def __init__(self,first_clf, trns_f=None):\n",
    "        'Последовательный XGB classifier'\n",
    "        '   first_clf - базовый классификатор'\n",
    "        '   trns_f - (при небходимости) функция, преобразовывающая значение входной матрицы x для first_clf)'\n",
    "        self.first_clf = first_clf\n",
    "        self.boosters,self.weights = [],[]\n",
    "        self.trns_f=trns_f\n",
    "    \n",
    "    def train(self,param,n_estimator,x_train,y_train,x_test,y_test,\n",
    "              early_stopping_rounds=10,verbose_eval=10,learning_rates=None):\n",
    "        train = xgb.DMatrix(x_train,y_train)\n",
    "        test  = xgb.DMatrix(x_test,y_test)\n",
    "        ptrain= self.first_clf._Booster.predict(train if self.trns_f is None else \n",
    "                                                xgb.DMatrix(self.trns_f(x_train), y_train), output_margin=True)\n",
    "        ptest = self.first_clf._Booster.predict(test  if self.trns_f is None else\n",
    "                                                xgb.DMatrix(self.trns_f(x_test),  y_test),  output_margin=True)\n",
    "\n",
    "        train.set_base_margin(ptrain)\n",
    "        test.set_base_margin(ptest) \n",
    "        evals=[(train,'train'),(test,'test')]\n",
    "        param['objective'] ='binary:logistic'\n",
    "        \n",
    "        bst = xgb.train(param, train, \n",
    "                             evals=evals,\n",
    "                             early_stopping_rounds=early_stopping_rounds,\n",
    "                             verbose_eval=verbose_eval,\n",
    "                             num_boost_round=n_estimator,learning_rates=learning_rates)    \n",
    "        return bst\n",
    "    \n",
    "    def add(self,bst,weight=1):\n",
    "        self.boosters.append(deepcopy(bst))\n",
    "        self.weights.append(weight)\n",
    "        \n",
    "    def predict_proba(self, x):\n",
    "        D = xgb.DMatrix(x)\n",
    "        p = self.first_clf._Booster.predict(D if self.trns_f is None else \n",
    "                                            xgb.DMatrix(self.trns_f(x)),output_margin=True)\n",
    "        D.set_base_margin(p)\n",
    "        \n",
    "        proba = expit(  \\\n",
    "                [logit(bst.predict(D)) * w for bst,w in  zip(self.boosters, self.weights)] \\\n",
    "                     ).sum(axis=0)/sum(self.weights)\n",
    "        return np.hstack((1-proba[:,np.newaxis],proba[:,np.newaxis]))\n",
    "    \n",
    "    def predict(self,x):\n",
    "        return self.predict_proba(x)[:,1] > 0.5    "
   ]
  },
  {
   "cell_type": "code",
   "execution_count": 15,
   "metadata": {
    "collapsed": false
   },
   "outputs": [],
   "source": [
    "ens_m = magrin_clf(ens.clfs[0])"
   ]
  },
  {
   "cell_type": "code",
   "execution_count": 12,
   "metadata": {
    "collapsed": false
   },
   "outputs": [
    {
     "name": "stdout",
     "output_type": "stream",
     "text": [
      "Will train until test error hasn't decreased in 10 rounds.\n",
      "[0]\ttrain-auc:0.986140\ttest-auc:0.983211\n",
      "[1]\ttrain-auc:0.986239\ttest-auc:0.983224\n",
      "96.43\n"
     ]
    }
   ],
   "source": [
    "#x_train,y_train  = make_set(df_train,lbl_train,False)\n",
    "\n",
    "bst = ens_m.train({'eta':0.07,'max_depth':7,'eval_metric':'auc','subsample':0.9,'colsample_bylevel':0.9}, 2, \n",
    "                  x_train,y_train,x_test,y_test)\n",
    "    \n",
    "ens_m.add(bst)\n",
    "print gini(x_test, y_test,ens_m)"
   ]
  },
  {
   "cell_type": "code",
   "execution_count": 13,
   "metadata": {
    "collapsed": false
   },
   "outputs": [
    {
     "ename": "NameError",
     "evalue": "name 'ens' is not defined",
     "output_type": "error",
     "traceback": [
      "\u001b[1;31m---------------------------------------------------------------------------\u001b[0m",
      "\u001b[1;31mNameError\u001b[0m                                 Traceback (most recent call last)",
      "\u001b[1;32m<ipython-input-13-aecd68bc6e23>\u001b[0m in \u001b[0;36m<module>\u001b[1;34m()\u001b[0m\n\u001b[0;32m      4\u001b[0m \u001b[1;33m\u001b[0m\u001b[0m\n\u001b[0;32m      5\u001b[0m \u001b[0mx_test1\u001b[0m\u001b[1;33m,\u001b[0m\u001b[0my_test1\u001b[0m  \u001b[1;33m=\u001b[0m \u001b[0mmake_set\u001b[0m\u001b[1;33m(\u001b[0m\u001b[0mdf_test\u001b[0m\u001b[1;33m,\u001b[0m\u001b[0mlbl_test\u001b[0m\u001b[1;33m,\u001b[0m\u001b[0mFalse\u001b[0m\u001b[1;33m)\u001b[0m\u001b[1;33m\u001b[0m\u001b[0m\n\u001b[1;32m----> 6\u001b[1;33m \u001b[0mens\u001b[0m\u001b[1;33m.\u001b[0m\u001b[0mfit\u001b[0m\u001b[1;33m(\u001b[0m\u001b[0mx_test1\u001b[0m\u001b[1;33m,\u001b[0m\u001b[0my_test1\u001b[0m\u001b[1;33m)\u001b[0m\u001b[1;33m\u001b[0m\u001b[0m\n\u001b[0m\u001b[0;32m      7\u001b[0m \u001b[1;33m\u001b[0m\u001b[0m\n\u001b[0;32m      8\u001b[0m \u001b[1;32mfor\u001b[0m \u001b[0mi\u001b[0m\u001b[1;33m,\u001b[0m\u001b[0mc\u001b[0m \u001b[1;32min\u001b[0m \u001b[0menumerate\u001b[0m\u001b[1;33m(\u001b[0m\u001b[1;33m(\u001b[0m\u001b[0mens\u001b[0m\u001b[1;33m.\u001b[0m\u001b[0mclfs\u001b[0m\u001b[1;33m+\u001b[0m\u001b[1;33m[\u001b[0m\u001b[0mens\u001b[0m\u001b[1;33m]\u001b[0m\u001b[1;33m)\u001b[0m\u001b[1;33m)\u001b[0m\u001b[1;33m:\u001b[0m\u001b[1;33m\u001b[0m\u001b[0m\n",
      "\u001b[1;31mNameError\u001b[0m: name 'ens' is not defined"
     ]
    }
   ],
   "source": [
    "# Посмотрим содержимое ансамбля\n",
    "def print_res(x,y,clf):\n",
    "    print \"Gini= {:.4} Accuracy= {:.4}\".format(gini(x, y,clf),metrics.accuracy_score(y, clf.predict(x))),       \n",
    "\n",
    "x_test1,y_test1  = make_set(df_test,lbl_test,False)\n",
    "ens.fit(x_test1,y_test1)\n",
    "\n",
    "for i,c in enumerate((ens.clfs+[ens])):\n",
    "    print str(i)+':  ' if i < len(ens.clfs) else 'Ens:',\n",
    "    print_res(x_test,y_test,c)\n",
    "    print_res(x_test1,y_test1,c)\n",
    "    print"
   ]
  },
  {
   "cell_type": "code",
   "execution_count": 316,
   "metadata": {
    "collapsed": true
   },
   "outputs": [],
   "source": [
    "ens.weights=[1,1,1]"
   ]
  },
  {
   "cell_type": "code",
   "execution_count": 325,
   "metadata": {
    "collapsed": true
   },
   "outputs": [],
   "source": [
    "# Сохранение текущих результатов\n",
    "with open('Faces_vgg.dump','wb') as output:\n",
    "    pickle.dump((df_train,df_test,lbl_train,lbl_test,x_train,y_train,x_test,y_test,clf,ens,ens_m,mask), output, 2)"
   ]
  },
  {
   "cell_type": "code",
   "execution_count": 6,
   "metadata": {
    "collapsed": false
   },
   "outputs": [],
   "source": [
    "# Считывание текущих результатов\n",
    "with open('Faces_vgg.dump','rb') as input:  \n",
    "               (df_train,df_test,lbl_train,lbl_test,x_train,y_train,x_test,y_test,clf,ens,ens_m,mask) = pickle.load(input)"
   ]
  },
  {
   "cell_type": "code",
   "execution_count": 797,
   "metadata": {
    "collapsed": false
   },
   "outputs": [],
   "source": [
    "# выгрузка для сравнения\n",
    "pr=ens.predict_proba(x_test)[:,1]\n",
    "order=np.argsort(pr)\n",
    "df_res=pd.DataFrame({\"ref1\":ref_test[order,0],\"ref2\":ref_test[order,1],\"Y\":y_test[order],\n",
    "                     \"Proba\":pr[order]})\n",
    "df_res.to_csv('lbl_res.csv')"
   ]
  },
  {
   "cell_type": "code",
   "execution_count": 7,
   "metadata": {
    "collapsed": false
   },
   "outputs": [
    {
     "data": {
      "text/html": [
       "<div>\n",
       "<table border=\"1\" class=\"dataframe\">\n",
       "  <thead>\n",
       "    <tr style=\"text-align: right;\">\n",
       "      <th></th>\n",
       "      <th>0</th>\n",
       "      <th>1</th>\n",
       "      <th>2</th>\n",
       "      <th>3</th>\n",
       "      <th>4</th>\n",
       "      <th>5</th>\n",
       "    </tr>\n",
       "  </thead>\n",
       "  <tbody>\n",
       "    <tr>\n",
       "      <th>0</th>\n",
       "      <td>1</td>\n",
       "      <td>0.000062</td>\n",
       "      <td>False</td>\n",
       "      <td>615878630</td>\n",
       "      <td>711547647.0</td>\n",
       "      <td>0.096</td>\n",
       "    </tr>\n",
       "    <tr>\n",
       "      <th>1</th>\n",
       "      <td>2</td>\n",
       "      <td>0.000070</td>\n",
       "      <td>False</td>\n",
       "      <td>516897333</td>\n",
       "      <td>374850170.0</td>\n",
       "      <td>0.000</td>\n",
       "    </tr>\n",
       "    <tr>\n",
       "      <th>2</th>\n",
       "      <td>3</td>\n",
       "      <td>0.000093</td>\n",
       "      <td>False</td>\n",
       "      <td>505369281</td>\n",
       "      <td>711576288.0</td>\n",
       "      <td>0.006</td>\n",
       "    </tr>\n",
       "    <tr>\n",
       "      <th>3</th>\n",
       "      <td>4</td>\n",
       "      <td>0.000094</td>\n",
       "      <td>False</td>\n",
       "      <td>698634720</td>\n",
       "      <td>710564682.0</td>\n",
       "      <td>0.002</td>\n",
       "    </tr>\n",
       "    <tr>\n",
       "      <th>4</th>\n",
       "      <td>5</td>\n",
       "      <td>0.000095</td>\n",
       "      <td>False</td>\n",
       "      <td>514496061</td>\n",
       "      <td>595892010.0</td>\n",
       "      <td>0.050</td>\n",
       "    </tr>\n",
       "  </tbody>\n",
       "</table>\n",
       "</div>"
      ],
      "text/plain": [
       "   0         1      2          3            4      5\n",
       "0  1  0.000062  False  615878630  711547647.0  0.096\n",
       "1  2  0.000070  False  516897333  374850170.0  0.000\n",
       "2  3  0.000093  False  505369281  711576288.0  0.006\n",
       "3  4  0.000094  False  698634720  710564682.0  0.002\n",
       "4  5  0.000095  False  514496061  595892010.0  0.050"
      ]
     },
     "execution_count": 7,
     "metadata": {},
     "output_type": "execute_result"
    }
   ],
   "source": [
    "lbl_res2=pd.read_csv('lbl_res_out2.csv',header=None)\n",
    "lbl_res2.head()"
   ]
  },
  {
   "cell_type": "code",
   "execution_count": 36,
   "metadata": {
    "collapsed": false
   },
   "outputs": [
    {
     "data": {
      "text/plain": [
       "0.92362079267078268"
      ]
     },
     "execution_count": 36,
     "metadata": {},
     "output_type": "execute_result"
    }
   ],
   "source": [
    "metrics.accuracy_score(lbl_res.Proba[:len(lbl_res2)] > 0.5,lbl_res.Y[:len(lbl_res2)])\n",
    "metrics.accuracy_score(lbl_res.Proba[:len(lbl_res2)] > 0.5,lbl_res.Y[:len(lbl_res2)])"
   ]
  },
  {
   "cell_type": "markdown",
   "metadata": {},
   "source": [
    "### Выбор фич - SelectFromModel"
   ]
  },
  {
   "cell_type": "code",
   "execution_count": 136,
   "metadata": {
    "collapsed": false
   },
   "outputs": [
    {
     "name": "stdout",
     "output_type": "stream",
     "text": [
      "898 729 729\n"
     ]
    }
   ],
   "source": [
    "from sklearn.feature_selection import SelectFromModel\n",
    "new_mask = SelectFromModel(ens.clfs[0],prefit=True,threshold='0.7*mean').get_support()\n",
    "print len(new_mask),sum(new_mask),\n",
    "for clf in ens.clfs:\n",
    "    new_mask = new_mask | SelectFromModel(clf,prefit=True,threshold='0.7*mean').get_support()\n",
    "\n",
    "print sum(new_mask)"
   ]
  },
  {
   "cell_type": "code",
   "execution_count": 137,
   "metadata": {
    "collapsed": false
   },
   "outputs": [
    {
     "name": "stdout",
     "output_type": "stream",
     "text": [
      "402 804 4096 449\n"
     ]
    }
   ],
   "source": [
    "short_mask=new_mask[:len(new_mask)/2] | new_mask[len(new_mask)/2:]\n",
    "print sum(short_mask),sum(short_mask*2),len(mask),len(short_mask)"
   ]
  },
  {
   "cell_type": "code",
   "execution_count": 14,
   "metadata": {
    "collapsed": true
   },
   "outputs": [],
   "source": [
    "mask=short_mask"
   ]
  },
  {
   "cell_type": "code",
   "execution_count": 61,
   "metadata": {
    "collapsed": false
   },
   "outputs": [],
   "source": [
    "def join_mask(mask0,mask1):\n",
    "    mask=np.empty(len(mask0))\n",
    "    j=0\n",
    "    m1=list(mask1)+[False]\n",
    "    for i,byte in enumerate(mask0):\n",
    "        mask[i] = byte & m1[j]\n",
    "        j += byte \n",
    "    return np.array([bool(byte) for byte in mask])"
   ]
  },
  {
   "cell_type": "code",
   "execution_count": 138,
   "metadata": {
    "collapsed": false
   },
   "outputs": [
    {
     "data": {
      "text/plain": [
       "(4096, 402, 4096, 449)"
      ]
     },
     "execution_count": 138,
     "metadata": {},
     "output_type": "execute_result"
    }
   ],
   "source": [
    "old_mask=mask\n",
    "mask402=join_mask(mask,short_mask)\n",
    "len(mask402),sum(mask402),len(old_mask),sum(old_mask)"
   ]
  },
  {
   "cell_type": "code",
   "execution_count": 139,
   "metadata": {
    "collapsed": true
   },
   "outputs": [],
   "source": [
    "mask=mask402"
   ]
  },
  {
   "cell_type": "markdown",
   "metadata": {},
   "source": [
    "### distance"
   ]
  },
  {
   "cell_type": "code",
   "execution_count": 10,
   "metadata": {
    "collapsed": false
   },
   "outputs": [],
   "source": [
    "from scipy.spatial.distance import braycurtis\n",
    "def dist(x):\n",
    "    dim=x.shape[1]/2\n",
    "    return np.array([ [ braycurtis(x[i,:dim],x[i,dim:])]  for i in range(len(x))])  "
   ]
  },
  {
   "cell_type": "code",
   "execution_count": 11,
   "metadata": {
    "collapsed": true
   },
   "outputs": [],
   "source": [
    "def make_set_plus(df,lbl,dup=False):\n",
    "    x,y = make_set(df,lbl,dup)\n",
    "    x = np.hstack((x,dist(x)))\n",
    "    return x,y"
   ]
  },
  {
   "cell_type": "code",
   "execution_count": 12,
   "metadata": {
    "collapsed": true
   },
   "outputs": [],
   "source": [
    "x_test1,y_test = make_set_plus(df_test,lbl_test,False)\n",
    "ens2=ensemble_classifier()"
   ]
  },
  {
   "cell_type": "code",
   "execution_count": 13,
   "metadata": {
    "collapsed": true
   },
   "outputs": [],
   "source": [
    "x_train1,y_train  = make_set_plus(df_train,lbl_train,True)"
   ]
  },
  {
   "cell_type": "code",
   "execution_count": 10,
   "metadata": {
    "collapsed": false
   },
   "outputs": [
    {
     "data": {
      "text/plain": [
       "(30564, 805)"
      ]
     },
     "execution_count": 10,
     "metadata": {},
     "output_type": "execute_result"
    }
   ],
   "source": [
    "x_test1.shape"
   ]
  },
  {
   "cell_type": "code",
   "execution_count": 14,
   "metadata": {
    "collapsed": false
   },
   "outputs": [
    {
     "name": "stdout",
     "output_type": "stream",
     "text": [
      "{'max_depth': 6} 85.5 / 82.06\n",
      "[0]\ttrain-auc:0.951316\ttest-auc:0.929571\n",
      "Multiple eval metrics have been passed: 'test-auc' will be used for early stopping.\n",
      "\n",
      "Will train until test-auc hasn't improved in 20 rounds.\n",
      "[10]\ttrain-auc:0.975069\ttest-auc:0.947894\n",
      "[20]\ttrain-auc:0.986156\ttest-auc:0.950727\n",
      "[30]\ttrain-auc:0.992509\ttest-auc:0.952623\n",
      "[40]\ttrain-auc:0.996105\ttest-auc:0.953331\n",
      "[50]\ttrain-auc:0.998261\ttest-auc:0.955137\n",
      "[60]\ttrain-auc:0.99919\ttest-auc:0.954535\n",
      "[70]\ttrain-auc:0.999726\ttest-auc:0.955745\n",
      "[80]\ttrain-auc:0.999897\ttest-auc:0.95596\n",
      "[90]\ttrain-auc:0.999968\ttest-auc:0.956296\n",
      "[100]\ttrain-auc:0.999995\ttest-auc:0.957148\n",
      "[110]\ttrain-auc:0.999999\ttest-auc:0.957408\n",
      "[120]\ttrain-auc:1\ttest-auc:0.957367\n",
      "[130]\ttrain-auc:1\ttest-auc:0.957662\n",
      "[140]\ttrain-auc:1\ttest-auc:0.95803\n",
      "[150]\ttrain-auc:1\ttest-auc:0.958181\n",
      "[160]\ttrain-auc:1\ttest-auc:0.958228\n",
      "Stopping. Best iteration:\n",
      "[149]\ttrain-auc:1\ttest-auc:0.958247\n",
      "\n",
      "after: 100.0 / 91.63 acc train: 0.888479001135\n",
      "{'max_depth': 7} 85.58 / 82.24\n",
      "[0]\ttrain-auc:0.957158\ttest-auc:0.928638\n",
      "Multiple eval metrics have been passed: 'test-auc' will be used for early stopping.\n",
      "\n",
      "Will train until test-auc hasn't improved in 20 rounds.\n",
      "[10]\ttrain-auc:0.983836\ttest-auc:0.947969\n",
      "[20]\ttrain-auc:0.994853\ttest-auc:0.951304\n",
      "[30]\ttrain-auc:0.998204\ttest-auc:0.953371\n",
      "[40]\ttrain-auc:0.999527\ttest-auc:0.954737\n",
      "[50]\ttrain-auc:0.999912\ttest-auc:0.954824\n",
      "[60]\ttrain-auc:0.999989\ttest-auc:0.955776\n",
      "[70]\ttrain-auc:0.999999\ttest-auc:0.956651\n",
      "[80]\ttrain-auc:1\ttest-auc:0.95654\n",
      "[90]\ttrain-auc:1\ttest-auc:0.956435\n",
      "Stopping. Best iteration:\n",
      "[76]\ttrain-auc:1\ttest-auc:0.956803\n",
      "\n",
      "after: 100.0 / 91.36 acc train: 0.8876276958\n",
      "{'max_depth': 8} 85.73 / 83.02\n",
      "[0]\ttrain-auc:0.96038\ttest-auc:0.930165\n",
      "Multiple eval metrics have been passed: 'test-auc' will be used for early stopping.\n",
      "\n",
      "Will train until test-auc hasn't improved in 20 rounds.\n",
      "[10]\ttrain-auc:0.993117\ttest-auc:0.946289\n",
      "[20]\ttrain-auc:0.999048\ttest-auc:0.950963\n",
      "[30]\ttrain-auc:0.999919\ttest-auc:0.952212\n",
      "[40]\ttrain-auc:0.999999\ttest-auc:0.951999\n",
      "[50]\ttrain-auc:1\ttest-auc:0.953024\n",
      "[60]\ttrain-auc:1\ttest-auc:0.953111\n",
      "[70]\ttrain-auc:1\ttest-auc:0.954021\n",
      "[80]\ttrain-auc:1\ttest-auc:0.955169\n",
      "[90]\ttrain-auc:1\ttest-auc:0.955901\n",
      "[100]\ttrain-auc:1\ttest-auc:0.956296\n",
      "[110]\ttrain-auc:1\ttest-auc:0.956793\n",
      "[120]\ttrain-auc:1\ttest-auc:0.956985\n",
      "[130]\ttrain-auc:1\ttest-auc:0.956876\n",
      "[140]\ttrain-auc:1\ttest-auc:0.957073\n",
      "[150]\ttrain-auc:1\ttest-auc:0.957194\n",
      "[160]\ttrain-auc:1\ttest-auc:0.957475\n",
      "[170]\ttrain-auc:1\ttest-auc:0.957596\n",
      "[180]\ttrain-auc:1\ttest-auc:0.95765\n",
      "[190]\ttrain-auc:1\ttest-auc:0.957818\n",
      "[200]\ttrain-auc:1\ttest-auc:0.957932\n",
      "[210]\ttrain-auc:1\ttest-auc:0.95795\n",
      "[220]\ttrain-auc:1\ttest-auc:0.957996\n",
      "[230]\ttrain-auc:1\ttest-auc:0.958136\n",
      "[240]\ttrain-auc:1\ttest-auc:0.95817\n",
      "[250]\ttrain-auc:1\ttest-auc:0.958201\n",
      "[260]\ttrain-auc:1\ttest-auc:0.958281\n",
      "[270]\ttrain-auc:1\ttest-auc:0.958317\n",
      "[280]\ttrain-auc:1\ttest-auc:0.958321\n",
      "[290]\ttrain-auc:1\ttest-auc:0.958373\n",
      "after: 100.0 / 91.7 acc train: 0.88819523269\n",
      "{'max_depth': 6} 85.61 / 82.36\n",
      "[0]\ttrain-auc:0.951365\ttest-auc:0.931515\n",
      "Multiple eval metrics have been passed: 'test-auc' will be used for early stopping.\n",
      "\n",
      "Will train until test-auc hasn't improved in 20 rounds.\n",
      "[10]\ttrain-auc:0.974638\ttest-auc:0.946544\n",
      "[20]\ttrain-auc:0.985761\ttest-auc:0.951646\n",
      "[30]\ttrain-auc:0.992308\ttest-auc:0.952795\n",
      "[40]\ttrain-auc:0.995786\ttest-auc:0.954116\n",
      "[50]\ttrain-auc:0.997844\ttest-auc:0.955432\n",
      "[60]\ttrain-auc:0.999067\ttest-auc:0.95603\n",
      "[70]\ttrain-auc:0.999663\ttest-auc:0.955421\n",
      "[80]\ttrain-auc:0.999897\ttest-auc:0.956332\n",
      "[90]\ttrain-auc:0.999969\ttest-auc:0.956867\n",
      "[100]\ttrain-auc:0.999994\ttest-auc:0.957128\n",
      "[110]\ttrain-auc:0.999999\ttest-auc:0.957247\n",
      "[120]\ttrain-auc:1\ttest-auc:0.957334\n",
      "[130]\ttrain-auc:1\ttest-auc:0.957794\n",
      "[140]\ttrain-auc:1\ttest-auc:0.957928\n",
      "[150]\ttrain-auc:1\ttest-auc:0.958298\n",
      "[160]\ttrain-auc:1\ttest-auc:0.958415\n",
      "[170]\ttrain-auc:1\ttest-auc:0.959038\n",
      "[180]\ttrain-auc:1\ttest-auc:0.959509\n",
      "[190]\ttrain-auc:1\ttest-auc:0.959602\n",
      "[200]\ttrain-auc:1\ttest-auc:0.959868\n",
      "[210]\ttrain-auc:1\ttest-auc:0.95992\n",
      "[220]\ttrain-auc:1\ttest-auc:0.959987\n",
      "[230]\ttrain-auc:1\ttest-auc:0.960058\n",
      "[240]\ttrain-auc:1\ttest-auc:0.960095\n",
      "[250]\ttrain-auc:1\ttest-auc:0.9602\n",
      "[260]\ttrain-auc:1\ttest-auc:0.960345\n",
      "[270]\ttrain-auc:1\ttest-auc:0.96041\n",
      "[280]\ttrain-auc:1\ttest-auc:0.960443\n",
      "[290]\ttrain-auc:1\ttest-auc:0.960575\n",
      "after: 100.0 / 92.13 acc train: 0.88989784336\n",
      "{'max_depth': 7} 85.62 / 82.05\n",
      "[0]\ttrain-auc:0.95707\ttest-auc:0.931684\n",
      "Multiple eval metrics have been passed: 'test-auc' will be used for early stopping.\n",
      "\n",
      "Will train until test-auc hasn't improved in 20 rounds.\n",
      "[10]\ttrain-auc:0.983639\ttest-auc:0.949235\n",
      "[20]\ttrain-auc:0.994257\ttest-auc:0.95264\n",
      "[30]\ttrain-auc:0.998134\ttest-auc:0.954331\n",
      "[40]\ttrain-auc:0.999478\ttest-auc:0.954901\n",
      "[50]\ttrain-auc:0.999895\ttest-auc:0.955632\n",
      "[60]\ttrain-auc:0.999989\ttest-auc:0.956193\n",
      "[70]\ttrain-auc:1\ttest-auc:0.956481\n",
      "[80]\ttrain-auc:1\ttest-auc:0.956831\n",
      "[90]\ttrain-auc:1\ttest-auc:0.957288\n",
      "[100]\ttrain-auc:1\ttest-auc:0.957657\n",
      "[110]\ttrain-auc:1\ttest-auc:0.957775\n",
      "[120]\ttrain-auc:1\ttest-auc:0.957989\n",
      "[130]\ttrain-auc:1\ttest-auc:0.958564\n",
      "[140]\ttrain-auc:1\ttest-auc:0.958673\n",
      "[150]\ttrain-auc:1\ttest-auc:0.958741\n",
      "[160]\ttrain-auc:1\ttest-auc:0.958949\n",
      "[170]\ttrain-auc:1\ttest-auc:0.959133\n",
      "[180]\ttrain-auc:1\ttest-auc:0.959057\n",
      "[190]\ttrain-auc:1\ttest-auc:0.959185\n",
      "[200]\ttrain-auc:1\ttest-auc:0.959281\n",
      "[210]\ttrain-auc:1\ttest-auc:0.95935\n",
      "[220]\ttrain-auc:1\ttest-auc:0.959414\n",
      "[230]\ttrain-auc:1\ttest-auc:0.959505\n",
      "[240]\ttrain-auc:1\ttest-auc:0.959624\n",
      "[250]\ttrain-auc:1\ttest-auc:0.959686\n",
      "[260]\ttrain-auc:1\ttest-auc:0.959785\n",
      "[270]\ttrain-auc:1\ttest-auc:0.959792\n",
      "[280]\ttrain-auc:1\ttest-auc:0.95993\n",
      "[290]\ttrain-auc:1\ttest-auc:0.960033\n",
      "after: 100.0 / 92.01 acc train: 0.89103291714\n",
      "{'max_depth': 8} 84.92 / 82.12\n",
      "[0]\ttrain-auc:0.960376\ttest-auc:0.931509\n",
      "Multiple eval metrics have been passed: 'test-auc' will be used for early stopping.\n",
      "\n",
      "Will train until test-auc hasn't improved in 20 rounds.\n",
      "[10]\ttrain-auc:0.992622\ttest-auc:0.946347\n",
      "[20]\ttrain-auc:0.998814\ttest-auc:0.949441\n",
      "[30]\ttrain-auc:0.999904\ttest-auc:0.951294\n",
      "[40]\ttrain-auc:0.999997\ttest-auc:0.951763\n",
      "[50]\ttrain-auc:1\ttest-auc:0.952801\n",
      "[60]\ttrain-auc:1\ttest-auc:0.954413\n",
      "[70]\ttrain-auc:1\ttest-auc:0.955153\n",
      "[80]\ttrain-auc:1\ttest-auc:0.955717\n",
      "[90]\ttrain-auc:1\ttest-auc:0.95588\n",
      "[100]\ttrain-auc:1\ttest-auc:0.95642\n",
      "[110]\ttrain-auc:1\ttest-auc:0.956683\n",
      "[120]\ttrain-auc:1\ttest-auc:0.956957\n",
      "[130]\ttrain-auc:1\ttest-auc:0.957265\n",
      "[140]\ttrain-auc:1\ttest-auc:0.957659\n",
      "[150]\ttrain-auc:1\ttest-auc:0.957901\n",
      "[160]\ttrain-auc:1\ttest-auc:0.957969\n",
      "[170]\ttrain-auc:1\ttest-auc:0.958056\n",
      "[180]\ttrain-auc:1\ttest-auc:0.958345\n",
      "[190]\ttrain-auc:1\ttest-auc:0.958601\n",
      "[200]\ttrain-auc:1\ttest-auc:0.958754\n",
      "[210]\ttrain-auc:1\ttest-auc:0.95875\n",
      "[220]\ttrain-auc:1\ttest-auc:0.958883\n",
      "[230]\ttrain-auc:1\ttest-auc:0.95898\n",
      "[240]\ttrain-auc:1\ttest-auc:0.959062\n",
      "[250]\ttrain-auc:1\ttest-auc:0.959071\n",
      "[260]\ttrain-auc:1\ttest-auc:0.959217\n",
      "[270]\ttrain-auc:1\ttest-auc:0.959312\n",
      "[280]\ttrain-auc:1\ttest-auc:0.959364\n",
      "[290]\ttrain-auc:1\ttest-auc:0.959428\n",
      "after: 100.0 / 91.89 acc train: 0.88876276958\n"
     ]
    }
   ],
   "source": [
    "for it in range(6):\n",
    "    x_train1,y_train  = make_set_plus(df_train,lbl_train,False)\n",
    "    \n",
    "    clf=xgb.XGBClassifier(n_estimators=1)\n",
    "    clf.fit(x_train1,y_train)\n",
    "\n",
    "    train_step(clf,{'max_depth':6+it%3},\n",
    "               300, x_train1,y_train,x_test1,y_test,early_stopping_rounds=20,\n",
    "               learning_rates=[0.3]*100 + [0.2]*100 + [0.1]*100)\n",
    "\n",
    "    ens2.add(clf)"
   ]
  },
  {
   "cell_type": "code",
   "execution_count": 14,
   "metadata": {
    "collapsed": false
   },
   "outputs": [],
   "source": [
    "# Посмотрим содержимое ансамбля\n",
    "def print_res(x,y,clf):\n",
    "    print \"Gini= {:.4} Accuracy= {:.4}\".format(gini(x, y,clf),metrics.accuracy_score(y, clf.predict(x))),"
   ]
  },
  {
   "cell_type": "code",
   "execution_count": 15,
   "metadata": {
    "collapsed": false
   },
   "outputs": [
    {
     "data": {
      "text/plain": [
       "0.93458201349676351"
      ]
     },
     "execution_count": 15,
     "metadata": {},
     "output_type": "execute_result"
    }
   ],
   "source": [
    "metrics.accuracy_score(y_test, ens2.predict(x_test1))"
   ]
  },
  {
   "cell_type": "code",
   "execution_count": 14,
   "metadata": {
    "collapsed": false
   },
   "outputs": [
    {
     "name": "stdout",
     "output_type": "stream",
     "text": [
      "     fun: -0.9372801752279859\n",
      " message: 'Optimization terminated successfully.'\n",
      "    nfev: 1357\n",
      "     nit: 14\n",
      " success: True\n",
      "       x: array([ 0.34376913,  0.67913554,  0.15728976,  0.64882213,  0.84644019,\n",
      "        0.96542839])\n",
      " Веса: [0.35607936998232348, 0.70345511911595227, 0.16292224478538123, 0.6720561989544962, 0.87675087658772566, 1.0]\n",
      "0:   Gini= 96.28 Accuracy= 0.9361 Gini= 96.43 Accuracy= 0.9317\n",
      "1:   Gini= 96.3 Accuracy= 0.9362 Gini= 96.34 Accuracy= 0.9326\n",
      "2:   Gini= 96.49 Accuracy= 0.9354 Gini= 96.52 Accuracy= 0.9324\n",
      "3:   Gini= 96.37 Accuracy= 0.9351 Gini= 96.46 Accuracy= 0.9324\n",
      "4:   Gini= 96.38 Accuracy= 0.9359 Gini= 96.39 Accuracy= 0.9337\n",
      "5:   Gini= 96.45 Accuracy= 0.935 Gini= 96.42 Accuracy= 0.9327\n",
      "Ens: Gini= 97.0 Accuracy= 0.9403 Gini= 97.02 Accuracy= 0.9373\n"
     ]
    }
   ],
   "source": [
    "# Посмотрим содержимое ансамбля\n",
    "# подбор весов\n",
    "def acc(y,pred):\n",
    "    return metrics.accuracy_score(y,pred>0.5)\n",
    "x_test_1,y_test_1  = make_set_plus(df_test,lbl_test,True)\n",
    "ens2.fit(x_test_1,y_test_1,tol=0.0001,val_func= acc)\n",
    "print \" Веса:\", ens2.weights\n",
    "\n",
    "#x_test_1,y_test_1  = make_set_plus(df_test,lbl_test,True)\n",
    "for i,c in enumerate((ens2.clfs+[ens2])):\n",
    "    print str(i)+':  ' if i < len(ens2.clfs) else 'Ens:',\n",
    "    print_res(x_test1,y_test,c)\n",
    "    print_res(x_test_1,y_test_1,c)\n",
    "    print"
   ]
  },
  {
   "cell_type": "code",
   "execution_count": 15,
   "metadata": {
    "collapsed": false
   },
   "outputs": [],
   "source": [
    "# Сохранение текущих результатов\n",
    "with open('Faces_vgg_ens2_04_acc_09373_11_2016.dump','wb') as output:\n",
    "    pickle.dump((df_train,df_test,lbl_train,lbl_test,x_train1,y_train,x_test1,y_test,clf,ens2,mask), output, 2)"
   ]
  },
  {
   "cell_type": "code",
   "execution_count": 16,
   "metadata": {
    "collapsed": false
   },
   "outputs": [
    {
     "data": {
      "text/plain": [
       "u'/home/oleksandr/FaceRocognition'"
      ]
     },
     "execution_count": 16,
     "metadata": {},
     "output_type": "execute_result"
    }
   ],
   "source": [
    "%pwd"
   ]
  },
  {
   "cell_type": "code",
   "execution_count": 28,
   "metadata": {
    "collapsed": false
   },
   "outputs": [
    {
     "name": "stdout",
     "output_type": "stream",
     "text": [
      "     fun: -0.93715275272386178\n",
      " message: 'Optimization terminated successfully.'\n",
      "    nfev: 2437\n",
      "     nit: 26\n",
      " success: True\n",
      "       x: array([ 0.20639527,  0.83017289,  0.5882745 ,  0.3106219 ,  0.87580538,\n",
      "        0.39107753])\n",
      " Веса: [0.23566339217059534, 0.94789654625355446, 0.67169547093264526, 0.35467001172781576, 1.0, 0.44653474578604191]\n",
      "0:   Gini= 96.3 Accuracy= 0.9356 Gini= 96.21 Accuracy= 0.9334\n",
      "1:   Gini= 96.26 Accuracy= 0.9357 Gini= 96.34 Accuracy= 0.9325\n",
      "2:   Gini= 96.22 Accuracy= 0.9362 Gini= 96.22 Accuracy= 0.9331\n",
      "3:   Gini= 96.19 Accuracy= 0.9352 Gini= 96.16 Accuracy= 0.9324\n",
      "4:   Gini= 96.23 Accuracy= 0.9371 Gini= 96.23 Accuracy= 0.9335\n",
      "5:   Gini= 96.27 Accuracy= 0.9381 Gini= 96.25 Accuracy= 0.9328\n",
      "Ens: Gini= 96.65 Accuracy= 0.9394 Gini= 96.64 Accuracy= 0.9372\n"
     ]
    }
   ],
   "source": [
    "# Посмотрим содержимое ансамбля\n",
    "# подбор весов\n",
    "def acc(y,pred):\n",
    "    return metrics.accuracy_score(y,pred>0.5)\n",
    "x_test_1,y_test_1  = make_set_plus(df_test,lbl_test,True)\n",
    "ens2.fit(x_test_1,y_test_1,tol=0.0001,val_func= acc)\n",
    "print \" Веса:\", ens2.weights\n",
    "\n",
    "#x_test_1,y_test_1  = make_set_plus(df_test,lbl_test,True)\n",
    "for i,c in enumerate((ens2.clfs+[ens2])):\n",
    "    print str(i)+':  ' if i < len(ens2.clfs) else 'Ens:',\n",
    "    print_res(x_test1,y_test,c)\n",
    "    print_res(x_test_1,y_test_1,c)\n",
    "    print"
   ]
  },
  {
   "cell_type": "code",
   "execution_count": 25,
   "metadata": {
    "collapsed": true
   },
   "outputs": [],
   "source": [
    "for i in [3,5]: ens2.weights[i]=0"
   ]
  },
  {
   "cell_type": "code",
   "execution_count": 102,
   "metadata": {
    "collapsed": false
   },
   "outputs": [],
   "source": [
    "import Util\n",
    "reload(Util)\n",
    "ensemble_classifier=Util.ensemble_classifier\n",
    "ens_new=ensemble_classifier()\n",
    "ens_new.clfs=ens2.clfs\n",
    "ens_new.weights=ens2.weights\n",
    "ens2=ens_new\n",
    "#ens_new.fit(x_train1,y_train)\n",
    "#ens_new.weights"
   ]
  },
  {
   "cell_type": "markdown",
   "metadata": {},
   "source": [
    "#### Distance + Margin"
   ]
  },
  {
   "cell_type": "code",
   "execution_count": 14,
   "metadata": {
    "collapsed": true
   },
   "outputs": [],
   "source": [
    "x_train,y_train  = make_set(df_test,lbl_test,False)"
   ]
  },
  {
   "cell_type": "code",
   "execution_count": 96,
   "metadata": {
    "collapsed": false
   },
   "outputs": [
    {
     "data": {
      "image/png": "[encoded data removed]",
      "text/plain": [
       "<matplotlib.figure.Figure at 0x1195fb490>"
      ]
     },
     "metadata": {},
     "output_type": "display_data"
    }
   ],
   "source": [
    "dist_test = dist(x_test)\n",
    "dist_train= dist(x_train)\n",
    "clf  = xgb.XGBClassifier(n_estimators=5,max_depth=3,learning_rate=1)\n",
    "clf.fit(dist_train,y_train)\n",
    "ROC(dist_train, y_train,clf,\"Train\")\n",
    "ROC(dist_test,  y_test, clf,\"Test\")"
   ]
  },
  {
   "cell_type": "code",
   "execution_count": 88,
   "metadata": {
    "collapsed": false
   },
   "outputs": [
    {
     "name": "stdout",
     "output_type": "stream",
     "text": [
      "Will train until test error hasn't decreased in 10 rounds.\n",
      "[0]\ttrain-auc:0.966527\ttest-auc:0.966439\n",
      "[10]\ttrain-auc:0.976870\ttest-auc:0.972965\n",
      "[20]\ttrain-auc:0.980586\ttest-auc:0.974190\n",
      "[30]\ttrain-auc:0.983176\ttest-auc:0.974670\n",
      "[40]\ttrain-auc:0.984967\ttest-auc:0.974979\n",
      "[50]\ttrain-auc:0.986689\ttest-auc:0.975522\n",
      "[60]\ttrain-auc:0.988096\ttest-auc:0.976177\n",
      "[70]\ttrain-auc:0.989357\ttest-auc:0.976425\n",
      "[80]\ttrain-auc:0.990252\ttest-auc:0.976640\n",
      "[90]\ttrain-auc:0.991062\ttest-auc:0.976853\n",
      "[99]\ttrain-auc:0.991909\ttest-auc:0.976868\n",
      "Gini= 95.87 Accuracy= 0.9317\n"
     ]
    }
   ],
   "source": [
    "#ens_m=magrin_clf(clf, dist)\n",
    "x_train,y_train  = make_set(df_train,lbl_train,False)\n",
    "dist_train= dist(x_train)\n",
    "dist_test= dist(x_test)\n",
    "\n",
    "bst = ens_m.train({'eta':0.25,'max_depth':5,'eval_metric':'auc','subsample':0.8,'colsample_bylevel':0.8}, 100, \n",
    "                  x_train,y_train,x_test,y_test, verbose_eval=10)\n",
    "    \n",
    "ens_m.add(bst)\n",
    "print_res(x_test,y_test,ens_m)"
   ]
  },
  {
   "cell_type": "code",
   "execution_count": 73,
   "metadata": {
    "collapsed": false
   },
   "outputs": [
    {
     "data": {
      "image/png": "[encoded data removed]",
      "text/plain": [
       "<matplotlib.figure.Figure at 0x13011b310>"
      ]
     },
     "metadata": {},
     "output_type": "display_data"
    }
   ],
   "source": [
    "from sklearn.linear_model import LogisticRegression\n",
    "clf1 = LogisticRegression()\n",
    "clf1.fit(dist_train,y_train)\n",
    "ROC(dist_train, y_train,clf1,\"Train\")\n",
    "ROC(dist_test,  y_test, clf1,\"Test\")"
   ]
  },
  {
   "cell_type": "code",
   "execution_count": 19,
   "metadata": {
    "collapsed": false
   },
   "outputs": [
    {
     "name": "stdout",
     "output_type": "stream",
     "text": [
      "Prob  Count  Count Count  Bad    Bad      Bad\n",
      "               Bad  Good  Rate,% Rate,cum Rate,cm0\n",
      " 0.24   167      6   161  3.593  43.742   3.593\n",
      " 1.73   166     11   155  6.627  48.227   5.105\n",
      " 3.23   166      9   157  5.422  53.424   5.210\n",
      " 5.36   166      5   161  3.012  60.275   4.662\n",
      "10.19   166     13   153  7.831  69.809   5.295\n",
      "21.74   166     44   122 26.506  82.190   8.826\n",
      "59.29   166    141    25 84.940  96.090  19.690\n",
      "91.90   166    165     1 99.398  99.800  29.646\n",
      "97.98   166    166     0 100.000 100.000  37.458\n",
      "99.72   166    166     0 100.000 100.000  43.742\n",
      "Gini =  92.5%\n"
     ]
    }
   ],
   "source": [
    "print_res_table(dist_test[:,np.newaxis],y_test,clf1)"
   ]
  },
  {
   "cell_type": "code",
   "execution_count": 110,
   "metadata": {
    "collapsed": false
   },
   "outputs": [
    {
     "name": "stdout",
     "output_type": "stream",
     "text": [
      "Accuracy 0.92551286226\n",
      "             precision    recall  f1-score   support\n",
      "\n",
      "      False       0.92      0.95      0.93      6827\n",
      "       True       0.94      0.89      0.91      5457\n",
      "\n",
      "avg / total       0.93      0.93      0.93     12284\n",
      "\n",
      "Accuracy 0.942445457506\n",
      "             precision    recall  f1-score   support\n",
      "\n",
      "      False       0.93      0.96      0.95      6827\n",
      "       True       0.95      0.92      0.93      5457\n",
      "\n",
      "avg / total       0.94      0.94      0.94     12284\n",
      "\n"
     ]
    }
   ],
   "source": [
    "def predict(x,clf,threshold):\n",
    "    prob = clf.predict_proba(x)\n",
    "    return prob[:,1]>threshold\n",
    "print 'Accuracy',metrics.accuracy_score(y_test,predict(dist_test[:,np.newaxis],clf1,0.5))\n",
    "print metrics.classification_report(y_test,predict(dist_test[:,np.newaxis],clf1,0.5))\n",
    "print 'Accuracy',metrics.accuracy_score(y_test,predict(x_test,ens,0.5))\n",
    "print metrics.classification_report(y_test,predict(x_test,ens,0.5))"
   ]
  },
  {
   "cell_type": "code",
   "execution_count": 236,
   "metadata": {
    "collapsed": false
   },
   "outputs": [
    {
     "name": "stdout",
     "output_type": "stream",
     "text": [
      "             precision    recall  f1-score   support\n",
      "\n",
      "      False       0.93      0.94      0.94      6893\n",
      "       True       0.93      0.91      0.92      5486\n",
      "\n",
      "avg / total       0.93      0.93      0.93     12379\n",
      "\n"
     ]
    }
   ],
   "source": [
    "def predict(x,clf,threshold):\n",
    "    prob = clf.predict_proba(x)\n",
    "    return prob[:,1]>threshold\n",
    "\n",
    "print metrics.classification_report(y_test,predict(x_test,ens,0.50))"
   ]
  },
  {
   "cell_type": "raw",
   "metadata": {
    "collapsed": false
   },
   "source": [
    "import cPickle as pickle\n",
    "with open('mask402.dump','wb') as output:\n",
    "    pickle.dump(mask, output, 2)\n",
    "with open('face402.dump','wb') as output:\n",
    "    pickle.dump((mask,ens), output, 2)"
   ]
  },
  {
   "cell_type": "code",
   "execution_count": 6,
   "metadata": {
    "collapsed": false
   },
   "outputs": [],
   "source": [
    "with open('face402.dump','rb') as input:  mask402,ens2 = pickle.load(input)"
   ]
  },
  {
   "cell_type": "code",
   "execution_count": 7,
   "metadata": {
    "collapsed": true
   },
   "outputs": [],
   "source": [
    "mask=mask402"
   ]
  },
  {
   "cell_type": "code",
   "execution_count": 9,
   "metadata": {
    "collapsed": true
   },
   "outputs": [],
   "source": [
    "file='mask.dump'\n",
    "with open(file,'rb') as input:  mask1700 = pickle.load(input)[0]"
   ]
  },
  {
   "cell_type": "code",
   "execution_count": 10,
   "metadata": {
    "collapsed": false
   },
   "outputs": [
    {
     "name": "stdout",
     "output_type": "stream",
     "text": [
      "855 487 4096 487\n"
     ]
    }
   ],
   "source": [
    "import cPickle as pickle\n",
    "with open('face_487.dump','rb') as input:  mask487 = pickle.load(input)[0]\n",
    "mask4096=join_mask(mask1700,mask487)\n",
    "print len(mask487),sum(mask487),len(mask4096),sum(mask4096)"
   ]
  },
  {
   "cell_type": "code",
   "execution_count": 11,
   "metadata": {
    "collapsed": false
   },
   "outputs": [],
   "source": [
    "with open('face_487.dump','rb') as input:  mask487,ens487 = pickle.load(input)\n",
    "#with open('face_487.dump','wb') as output: pickle.dump((mask487,mask4096,ens487),output,2)"
   ]
  },
  {
   "cell_type": "code",
   "execution_count": 799,
   "metadata": {
    "collapsed": false
   },
   "outputs": [
    {
     "data": {
      "text/plain": [
       "(855, 330)"
      ]
     },
     "execution_count": 799,
     "metadata": {},
     "output_type": "execute_result"
    }
   ],
   "source": [
    "mask330=mask\n",
    "len(mask330),sum(mask330)"
   ]
  },
  {
   "cell_type": "code",
   "execution_count": 801,
   "metadata": {
    "collapsed": false
   },
   "outputs": [
    {
     "data": {
      "text/plain": [
       "(4096, 330)"
      ]
     },
     "execution_count": 801,
     "metadata": {},
     "output_type": "execute_result"
    }
   ],
   "source": [
    "mask4096_330=join_mask(mask1700,mask330)\n",
    "len(mask4096_330),sum(mask4096_330)"
   ]
  },
  {
   "cell_type": "code",
   "execution_count": 802,
   "metadata": {
    "collapsed": true
   },
   "outputs": [],
   "source": [
    "with open('mask4096_330.dump','wb') as output:\n",
    "    pickle.dump((mask4096_330), output, 2)"
   ]
  },
  {
   "cell_type": "code",
   "execution_count": 13,
   "metadata": {
    "collapsed": true
   },
   "outputs": [],
   "source": [
    "mask=mask487\n",
    "ens=ens487"
   ]
  },
  {
   "cell_type": "code",
   "execution_count": null,
   "metadata": {
    "collapsed": true
   },
   "outputs": [],
   "source": []
  }
 ],
 "metadata": {
  "anaconda-cloud": {},
  "kernelspec": {
   "display_name": "Python [Root]",
   "language": "python",
   "name": "Python [Root]"
  },
  "language_info": {
   "codemirror_mode": {
    "name": "ipython",
    "version": 2
   },
   "file_extension": ".py",
   "mimetype": "text/x-python",
   "name": "python",
   "nbconvert_exporter": "python",
   "pygments_lexer": "ipython2",
   "version": "2.7.12"
  }
 },
 "nbformat": 4,
 "nbformat_minor": 0
}
